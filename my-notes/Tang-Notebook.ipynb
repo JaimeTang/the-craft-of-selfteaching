{
 "cells": [
  {
   "cell_type": "markdown",
   "metadata": {
    "toc-hr-collapsed": true
   },
   "source": [
    "# Git"
   ]
  },
  {
   "cell_type": "markdown",
   "metadata": {},
   "source": [
    "## Example: Contribute to an existing repository"
   ]
  },
  {
   "cell_type": "markdown",
   "metadata": {
    "toc-hr-collapsed": false
   },
   "source": [
    "download a repository on GitHub.com to our machine git clone https://github.com/me/repo.git\n",
    "change into the `repo` directory\n",
    "\n",
    "```\n",
    "cd repo\n",
    "```\n",
    "\n",
    "create a new branch to store any new changes\n",
    "\n",
    "```\n",
    "git branch my-branch\n",
    "```\n",
    "\n",
    "switch to that branch (line of development)\n",
    "\n",
    "```\n",
    "git checkout my-branch\n",
    "```\n",
    "    \n",
    "make changes, for example, edit `file1.md` and `file2.md` using the text editor stage the changed files\n",
    "\n",
    "```\n",
    "git add file1.md file2.md\n",
    "or\n",
    "git add .\n",
    "```\n",
    "\n",
    "take a snapshot of the staging area (anything that's been added)\n",
    "\n",
    "```\n",
    "git commit -m \"my snapshot\"\n",
    "or\n",
    "git commit -am \"my snapshot\"\n",
    "```\n",
    "\n",
    "push changes to github\n",
    "\n",
    "```\n",
    "git push --set-upstream origin my-branch\n",
    "```\n",
    "\n"
   ]
  },
  {
   "cell_type": "markdown",
   "metadata": {},
   "source": [
    "## Example: Start a new repository and publish it to GitHub"
   ]
  },
  {
   "cell_type": "markdown",
   "metadata": {},
   "source": [
    "First, you will need to create a new repository on GitHub. You can learn how to create a new repository in our Hello World guide. Do not initialize the repository with a README, .gitignore or License. This empty repository will await your code.\n",
    "\n",
    "create a new directory, and initialize it with git-specific functions\n",
    "\n",
    "```\n",
    "git init my-repo\n",
    "```\n",
    "\n",
    "change into the `my-repo` directory\n",
    "\n",
    "```\n",
    "cd my-repo\n",
    "```\n",
    "\n",
    "create the first file in the project\n",
    "\n",
    "```\n",
    "touch README.md\n",
    "```\n",
    "\n",
    "git isn't aware of the file, stage it\n",
    "\n",
    "```\n",
    "git add README.md\n",
    "```\n",
    "\n",
    "take a snapshot of the staging area\n",
    "   \n",
    "```\n",
    "git commit -m \"add README to initial commit\"\n",
    "```\n",
    "\n",
    "provide the path for the repository you created on github\n",
    "\n",
    "```\n",
    "git remote add origin https://github.com/YOUR-USERNAME/YOUR-REPOSITORY.git\n",
    "```\n",
    "\n",
    "push changes to github\n",
    "\n",
    "```\n",
    "git push --set-upstream origin master\n",
    "```\n"
   ]
  },
  {
   "cell_type": "markdown",
   "metadata": {
    "toc-hr-collapsed": false
   },
   "source": [
    "## Example: contribute to an existing branch on GitHub"
   ]
  },
  {
   "cell_type": "markdown",
   "metadata": {},
   "source": [
    "assumption: a project called `repo` already exists on the machine, and a new branch has been pushed to GitHub.com since the last time changes were made locally\n",
    "\n",
    "change into the `repo` directory\n",
    "\n",
    "```\n",
    "cd repo\n",
    "```\n",
    "\n",
    "update all remote tracking branches, and the currently checked out branch\n",
    "\n",
    "```\n",
    "git pull\n",
    "```\n",
    "\n",
    "change into the existing branch called `feature-a`\n",
    "\n",
    "```\n",
    "git checkout feature-a\n",
    "```\n",
    "\n",
    "make changes, for example, edit `file1.md` using the text editor\n",
    "\n",
    "stage the changed file\n",
    "\n",
    "```    \n",
    "git add file1.md\n",
    "```\n",
    "take a snapshot of the staging area\n",
    "\n",
    "    git commit -m \"edit file1\"\n",
    "\n",
    "push changes to github\n",
    "\n",
    "    git push"
   ]
  },
  {
   "cell_type": "markdown",
   "metadata": {},
   "source": [
    "# 其他"
   ]
  },
  {
   "cell_type": "markdown",
   "metadata": {},
   "source": [
    "书籍阅读的方法\n"
   ]
  },
  {
   "cell_type": "markdown",
   "metadata": {},
   "source": [
    "## 囫囵吞枣地读完"
   ]
  },
  {
   "cell_type": "markdown",
   "metadata": {},
   "source": [
    "古人说，读书百遍其义自见，道理就在这里了 —— 只不过，他们那时候没有计算机术语可以借用，所以，这道理本身成了 “过早引用”，对那些根本就没有过 “读书百遍” 经历的人，绝对以为那只不过是在忽悠自己……\n",
    "\n",
    "有经验的读书者，拿来一本书开始自学技能的时候，他会先翻翻目录（Table Of Contents），看看其中有没有自己完全没有接触过的概念；然后再翻翻术语表（Glossary），看看是否可以尽量理解；而后会看看索引（Index），根据页码提示，直接翻到相关页面进一步查找…… 在通读书籍之前，还会看看书后的参考文献（References），看看此书都引用了哪些大牛的书籍，弄不好会顺手多买几本。\n",
    "\n",
    "这样做，显然是老到 —— 这么做的最大好处是 “尽力消解了大量的过早引用”，为自己减少了极大的理解负担。\n",
    "\n",
    "所以，第一遍的正经手段是 “**囫囵吞枣地读完**”。"
   ]
  },
  {
   "cell_type": "markdown",
   "metadata": {},
   "source": [
    "## 只字不差地阅读"
   ]
  },
  {
   "cell_type": "markdown",
   "metadata": {},
   "source": [
    "每一次学习新技能的时候，很多人只不过是因为做不到只字不差地阅读，于是总是会错过很多细节；\n",
    "于是，最终就好像 “看了另外一个山寨版电影一样”，实际上 “习得了另外一个山寨版技能”"
   ]
  },
  {
   "cell_type": "markdown",
   "metadata": {},
   "source": [
    "## “就算读不懂也要读完” 的更高境界，是 “就算不明白也要先记住”。"
   ]
  },
  {
   "cell_type": "markdown",
   "metadata": {},
   "source": [
    "## 尽快开始整理归纳总结"
   ]
  },
  {
   "cell_type": "markdown",
   "metadata": {},
   "source": [
    "第一遍囫囵吞枣之后，马上就要开始 “总结、归纳、整理、组织 关键知识点” 的工作。自己动手完成这些工作，是所谓学霸的特点。他们只不过是掌握了这样一个其他人从未想过必须掌握的简单技巧。他们一定有个本子，里面是各种列表、示意图、表格 —— 这些都是最常用的知识（概念）整理组织归纳工具，这些工具的用法看起来简单的要死。\n",
    "\n",
    "这个技巧说出来、看起来都非常简单。然而，也许正因为它看起来如此简单，才被绝大多数人忽略…… 与学霸们相对，绝大多数非学霸都有一模一样的糊弄自己的理由：反正有别人做好的，拿过来用就是了！—— 听起来那么理直气壮……\n",
    "\n",
    "可实际上，自己动手做做就知道了 —— 整理、归纳、组织，再次反复，是个相当麻烦的过程。非学霸们自己不动手做的真正原因只不过是：嫌麻烦、怕麻烦。一个字总结，就是，懒！可是，谁愿意承认自己懒呢？没有人愿意。于是，都给自己找个冠冕堂皇的理由，比如，上面说的 “反正别人已经做好了，我为什么还要再做一遍呢？” 再比如，“这世界就是懒人推进的！”"
   ]
  },
  {
   "cell_type": "markdown",
   "metadata": {},
   "source": [
    ">一个好的习惯就是，有空了去读读别人写的代码 —— 理解能力的提高"
   ]
  },
  {
   "cell_type": "markdown",
   "metadata": {},
   "source": [
    "# 问题"
   ]
  },
  {
   "cell_type": "markdown",
   "metadata": {},
   "source": [
    "使用sys.argv\n",
    "```python\n",
    "import sys\n",
    "\n",
    "sys.argv[1]\n",
    "```\n",
    "\n",
    "特定函数\n",
    "```python\n",
    "__new__\n",
    "```\n",
    "\n",
    "方法\n",
    "```python\n",
    "@classmethod\n",
    "@staticmethod\n",
    "```"
   ]
  },
  {
   "cell_type": "code",
   "execution_count": null,
   "metadata": {},
   "outputs": [],
   "source": []
  }
 ],
 "metadata": {
  "kernelspec": {
   "display_name": "Python 3",
   "language": "python",
   "name": "python3"
  },
  "language_info": {
   "codemirror_mode": {
    "name": "ipython",
    "version": 3
   },
   "file_extension": ".py",
   "mimetype": "text/x-python",
   "name": "python",
   "nbconvert_exporter": "python",
   "pygments_lexer": "ipython3",
   "version": "3.7.1"
  },
  "toc-showmarkdowntxt": false
 },
 "nbformat": 4,
 "nbformat_minor": 2
}
