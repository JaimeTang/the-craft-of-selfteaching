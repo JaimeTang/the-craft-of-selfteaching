{
 "cells": [
  {
   "cell_type": "markdown",
   "metadata": {},
   "source": [
    "## Example: Contribute to an existing repository"
   ]
  },
  {
   "cell_type": "markdown",
   "metadata": {
    "toc-hr-collapsed": false
   },
   "source": [
    "download a repository on GitHub.com to our machine git clone https://github.com/me/repo.git\n",
    "change into the `repo` directory\n",
    "\n",
    "```\n",
    "cd repo\n",
    "```\n",
    "\n",
    "create a new branch to store any new changes\n",
    "\n",
    "```\n",
    "git branch my-branch\n",
    "```\n",
    "\n",
    "switch to that branch (line of development)\n",
    "\n",
    "```\n",
    "git checkout my-branch\n",
    "```\n",
    "    \n",
    "make changes, for example, edit `file1.md` and `file2.md` using the text editor stage the changed files\n",
    "\n",
    "```\n",
    "git add file1.md file2.md\n",
    "or\n",
    "git add .\n",
    "```\n",
    "\n",
    "take a snapshot of the staging area (anything that's been added)\n",
    "\n",
    "```\n",
    "git commit -m \"my snapshot\"\n",
    "or\n",
    "git commit -am \"my snapshot\"\n",
    "```\n",
    "\n",
    "push changes to github\n",
    "\n",
    "```\n",
    "git push --set-upstream origin my-branch\n",
    "```\n",
    "\n"
   ]
  },
  {
   "cell_type": "markdown",
   "metadata": {},
   "source": [
    "## Example: Start a new repository and publish it to GitHub"
   ]
  },
  {
   "cell_type": "markdown",
   "metadata": {},
   "source": [
    "First, you will need to create a new repository on GitHub. You can learn how to create a new repository in our Hello World guide. Do not initialize the repository with a README, .gitignore or License. This empty repository will await your code.\n",
    "\n",
    "create a new directory, and initialize it with git-specific functions\n",
    "\n",
    "```\n",
    "git init my-repo\n",
    "```\n",
    "\n",
    "change into the `my-repo` directory\n",
    "\n",
    "```\n",
    "cd my-repo\n",
    "```\n",
    "\n",
    "create the first file in the project\n",
    "\n",
    "```\n",
    "touch README.md\n",
    "```\n",
    "\n",
    "git isn't aware of the file, stage it\n",
    "\n",
    "```\n",
    "git add README.md\n",
    "```\n",
    "\n",
    "take a snapshot of the staging area\n",
    "   \n",
    "```\n",
    "git commit -m \"add README to initial commit\"\n",
    "```\n",
    "\n",
    "provide the path for the repository you created on github\n",
    "\n",
    "```\n",
    "git remote add origin https://github.com/YOUR-USERNAME/YOUR-REPOSITORY.git\n",
    "```\n",
    "\n",
    "push changes to github\n",
    "\n",
    "```\n",
    "git push --set-upstream origin master\n",
    "```\n"
   ]
  },
  {
   "cell_type": "markdown",
   "metadata": {},
   "source": [
    "## Example: contribute to an existing branch on GitHub"
   ]
  },
  {
   "cell_type": "markdown",
   "metadata": {},
   "source": [
    "assumption: a project called `repo` already exists on the machine, and a new branch has been pushed to GitHub.com since the last time changes were made locally\n",
    "\n",
    "change into the `repo` directory\n",
    "\n",
    "```\n",
    "cd repo\n",
    "```\n",
    "\n",
    "update all remote tracking branches, and the currently checked out branch\n",
    "\n",
    "```\n",
    "git pull\n",
    "```\n",
    "\n",
    "change into the existing branch called `feature-a`\n",
    "\n",
    "```\n",
    "git checkout feature-a\n",
    "```\n",
    "\n",
    "make changes, for example, edit `file1.md` using the text editor\n",
    "\n",
    "stage the changed file\n",
    "\n",
    "```    \n",
    "git add file1.md\n",
    "```\n",
    "take a snapshot of the staging area\n",
    "\n",
    "    git commit -m \"edit file1\"\n",
    "\n",
    "push changes to github\n",
    "\n",
    "    git push"
   ]
  }
 ],
 "metadata": {
  "kernelspec": {
   "display_name": "Python 3",
   "language": "python",
   "name": "python3"
  },
  "language_info": {
   "codemirror_mode": {
    "name": "ipython",
    "version": 3
   },
   "file_extension": ".py",
   "mimetype": "text/x-python",
   "name": "python",
   "nbconvert_exporter": "python",
   "pygments_lexer": "ipython3",
   "version": "3.7.1"
  },
  "toc-showmarkdowntxt": false
 },
 "nbformat": 4,
 "nbformat_minor": 2
}
